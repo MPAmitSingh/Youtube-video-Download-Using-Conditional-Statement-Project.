{
 "cells": [
  {
   "cell_type": "code",
   "execution_count": 1,
   "id": "64bac4d0-5740-4241-898c-6312d69d98a0",
   "metadata": {},
   "outputs": [
    {
     "name": "stdout",
     "output_type": "stream",
     "text": [
      "Requirement already satisfied: pytube3 in c:\\users\\mpami\\anaconda3\\lib\\site-packages (9.6.4)\n",
      "Requirement already satisfied: typing-extensions in c:\\users\\mpami\\anaconda3\\lib\\site-packages (from pytube3) (4.11.0)\n",
      "Note: you may need to restart the kernel to use updated packages.\n"
     ]
    }
   ],
   "source": [
    "pip install pytube3"
   ]
  },
  {
   "cell_type": "code",
   "execution_count": 2,
   "id": "426278a8-f4d9-4fcb-8e40-16c11c2f32c9",
   "metadata": {},
   "outputs": [
    {
     "name": "stdout",
     "output_type": "stream",
     "text": [
      "Requirement already satisfied: pytube in c:\\users\\mpami\\anaconda3\\lib\\site-packages (15.0.0)\n",
      "Note: you may need to restart the kernel to use updated packages.\n"
     ]
    }
   ],
   "source": [
    "pip install --upgrade pytube"
   ]
  },
  {
   "cell_type": "code",
   "execution_count": 3,
   "id": "8775bd22-f676-454f-a468-23a686dc9c2a",
   "metadata": {},
   "outputs": [],
   "source": [
    "from pytube import YouTube"
   ]
  },
  {
   "cell_type": "code",
   "execution_count": 4,
   "id": "89404f3f-e4e8-4f38-b0cb-3eca4f3e73c4",
   "metadata": {},
   "outputs": [
    {
     "name": "stdout",
     "output_type": "stream",
     "text": [
      "Requirement already satisfied: yt-dlp in c:\\users\\mpami\\anaconda3\\lib\\site-packages (2024.8.6)\n",
      "Requirement already satisfied: brotli in c:\\users\\mpami\\anaconda3\\lib\\site-packages (from yt-dlp) (1.0.9)\n",
      "Requirement already satisfied: certifi in c:\\users\\mpami\\anaconda3\\lib\\site-packages (from yt-dlp) (2024.6.2)\n",
      "Requirement already satisfied: mutagen in c:\\users\\mpami\\anaconda3\\lib\\site-packages (from yt-dlp) (1.47.0)\n",
      "Requirement already satisfied: pycryptodomex in c:\\users\\mpami\\anaconda3\\lib\\site-packages (from yt-dlp) (3.20.0)\n",
      "Requirement already satisfied: requests<3,>=2.32.2 in c:\\users\\mpami\\anaconda3\\lib\\site-packages (from yt-dlp) (2.32.2)\n",
      "Requirement already satisfied: urllib3<3,>=1.26.17 in c:\\users\\mpami\\anaconda3\\lib\\site-packages (from yt-dlp) (2.2.2)\n",
      "Requirement already satisfied: websockets>=12.0 in c:\\users\\mpami\\anaconda3\\lib\\site-packages (from yt-dlp) (13.0.1)\n",
      "Requirement already satisfied: charset-normalizer<4,>=2 in c:\\users\\mpami\\anaconda3\\lib\\site-packages (from requests<3,>=2.32.2->yt-dlp) (2.0.4)\n",
      "Requirement already satisfied: idna<4,>=2.5 in c:\\users\\mpami\\anaconda3\\lib\\site-packages (from requests<3,>=2.32.2->yt-dlp) (3.7)\n",
      "Note: you may need to restart the kernel to use updated packages.\n"
     ]
    }
   ],
   "source": [
    "pip install yt-dlp"
   ]
  },
  {
   "cell_type": "code",
   "execution_count": 5,
   "id": "c606fdf3-a563-4bd9-90b3-abfa49686eb8",
   "metadata": {},
   "outputs": [
    {
     "name": "stdin",
     "output_type": "stream",
     "text": [
      "enter youtube video youtube.com/watch?v=eDN6fAWLNNE&t=5425s\n"
     ]
    }
   ],
   "source": [
    "link =input('enter youtube video')\n",
    "yt=YouTube(link)"
   ]
  },
  {
   "cell_type": "code",
   "execution_count": 6,
   "id": "62d3463e-3674-4093-ba96-1db976c2bc71",
   "metadata": {},
   "outputs": [
    {
     "name": "stdout",
     "output_type": "stream",
     "text": [
      "title: Generative AI for Build LLM Model Using Lama 3,Hugging Face & Ollama | NareshIT\n",
      "views: 2476\n",
      "Duration 8456\n",
      "Description None\n",
      "Ratings None\n"
     ]
    }
   ],
   "source": [
    "print('title:',yt.title)\n",
    "print('views:',yt.views)\n",
    "print('Duration',yt.length)\n",
    "print('Description',yt.description)\n",
    "print('Ratings',yt.rating)"
   ]
  },
  {
   "cell_type": "code",
   "execution_count": 14,
   "id": "3d3b6728-d829-4ee1-a683-b73d9ac105b9",
   "metadata": {},
   "outputs": [
    {
     "name": "stdin",
     "output_type": "stream",
     "text": [
      "Do you want to download this video?(yes/no) yes\n"
     ]
    },
    {
     "name": "stdout",
     "output_type": "stream",
     "text": [
      "Downloading...\n",
      "[youtube] Extracting URL: https://www.youtube.com/watch?v=eDN6fAWLNNE&t=5432s\n",
      "[youtube] eDN6fAWLNNE: Downloading webpage\n",
      "[youtube] eDN6fAWLNNE: Downloading ios player API JSON\n",
      "[youtube] eDN6fAWLNNE: Downloading web creator player API JSON\n",
      "[youtube] eDN6fAWLNNE: Downloading player 3abab6ef\n",
      "[youtube] eDN6fAWLNNE: Downloading m3u8 information\n",
      "[info] eDN6fAWLNNE: Downloading 1 format(s): 18\n",
      "[download] Destination: Generative AI for Build LLM Model Using Lama 3,Hugging Face & Ollama ｜ NareshIT [eDN6fAWLNNE].mp4\n",
      "[download] 100% of  190.53MiB in 00:00:23 at 8.11MiB/s     \n",
      "Download completed.\n"
     ]
    }
   ],
   "source": [
    "from yt_dlp import YoutubeDL\n",
    "\n",
    "download_option=input('Do you want to download this video?(yes/no)').lower()\n",
    "if download_option == \"yes\":\n",
    "    url = 'https://www.youtube.com/watch?v=eDN6fAWLNNE&t=5432s'\n",
    "    ydl_opts = {'format': 'best'}\n",
    "    with YoutubeDL(ydl_opts) as ydl:\n",
    "        print(\"Downloading...\")\n",
    "        ydl.download([url])\n",
    "        print(\"Download completed.\")\n",
    "else:\n",
    "    print(\"Download aborted.\")"
   ]
  },
  {
   "cell_type": "code",
   "execution_count": 15,
   "id": "6984a4e2-9c4b-4e00-806a-b5a12b58be84",
   "metadata": {},
   "outputs": [
    {
     "name": "stdin",
     "output_type": "stream",
     "text": [
      "Do you want to download this video?(yes/no) yes\n"
     ]
    },
    {
     "name": "stdout",
     "output_type": "stream",
     "text": [
      "Downloading...\n",
      "[youtube] Extracting URL: https://youtu.be/gIiJ6aYwoTk?si=QBoyy1XXgeGgZfmc\n",
      "[youtube] gIiJ6aYwoTk: Downloading webpage\n",
      "[youtube] gIiJ6aYwoTk: Downloading ios player API JSON\n",
      "[youtube] gIiJ6aYwoTk: Downloading web creator player API JSON\n",
      "[youtube] gIiJ6aYwoTk: Downloading m3u8 information\n",
      "[info] gIiJ6aYwoTk: Downloading 1 format(s): 18\n",
      "[download] Destination: अर्जुन के लिए क्यों असंभव था कर्ण को हराना ｜ Dr Kumar Vishwas ｜ Mahabharat ｜ Krishna ｜ Arjun ｜ Karna [gIiJ6aYwoTk].mp4\n",
      "[download] 100% of  120.37MiB in 00:00:14 at 8.52MiB/s     \n",
      "Download completed.\n"
     ]
    }
   ],
   "source": [
    "from yt_dlp import YoutubeDL\n",
    "\n",
    "download_option=input('Do you want to download this video?(yes/no)').lower()\n",
    "if download_option == \"yes\":\n",
    "    url = 'https://youtu.be/gIiJ6aYwoTk?si=QBoyy1XXgeGgZfmc'\n",
    "    ydl_opts = {'format': 'best'}\n",
    "    with YoutubeDL(ydl_opts) as ydl:\n",
    "        print(\"Downloading...\")\n",
    "        ydl.download([url])\n",
    "        print(\"Download completed.\")\n",
    "else:\n",
    "    print(\"Download aborted.\")"
   ]
  },
  {
   "cell_type": "code",
   "execution_count": 16,
   "id": "c030c998-b4a1-4f4b-b26e-4c5d1100d52d",
   "metadata": {},
   "outputs": [
    {
     "name": "stdin",
     "output_type": "stream",
     "text": [
      "Do you want to download this video?(yes/no) yes\n"
     ]
    },
    {
     "name": "stdout",
     "output_type": "stream",
     "text": [
      "Downloading...\n",
      "[youtube] Extracting URL: https://youtube.com/shorts/cdhbXzlH8m8?si=qd16Q3QXugy3mtiq\n",
      "[youtube] cdhbXzlH8m8: Downloading webpage\n",
      "[youtube] cdhbXzlH8m8: Downloading ios player API JSON\n",
      "[youtube] cdhbXzlH8m8: Downloading web creator player API JSON\n",
      "[youtube] cdhbXzlH8m8: Downloading player 3abab6ef\n",
      "[youtube] cdhbXzlH8m8: Downloading m3u8 information\n",
      "[info] cdhbXzlH8m8: Downloading 1 format(s): 18\n",
      "[download] Destination: Pole Turning Sky Dive 😳🤯 ｜｜ #khokho #khokholovers [cdhbXzlH8m8].mp4\n",
      "[download] 100% of  629.72KiB in 00:00:00 at 3.28MiB/s     \n",
      "Download completed.\n"
     ]
    }
   ],
   "source": [
    "from yt_dlp import YoutubeDL\n",
    "\n",
    "download_option=input('Do you want to download this video?(yes/no)').lower()\n",
    "if download_option == \"yes\":\n",
    "    url = 'https://youtube.com/shorts/cdhbXzlH8m8?si=qd16Q3QXugy3mtiq'\n",
    "    ydl_opts = {'format': 'best'}\n",
    "    with YoutubeDL(ydl_opts) as ydl:\n",
    "        print(\"Downloading...\")\n",
    "        ydl.download([url])\n",
    "        print(\"Download completed.\")\n",
    "else:\n",
    "    print(\"Download aborted.\")"
   ]
  },
  {
   "cell_type": "code",
   "execution_count": null,
   "id": "51b175d3-9de9-46f0-8d49-831cfaa6b73e",
   "metadata": {},
   "outputs": [],
   "source": [
    "download_option=input('Do you want to download this video?(yes/no)').lower()\n",
    "if download_option == \"yes\":\n",
    "    url = ''\n",
    "    ydl_opts = {'format': 'best'}\n",
    "    with YoutubeDL(ydl_opts) as ydl:\n",
    "        print(\"Downloading...\")\n",
    "        ydl.download([url])\n",
    "        print(\"Download completed.\")\n",
    "else:\n",
    "    print(\"Download aborted.\")"
   ]
  },
  {
   "cell_type": "code",
   "execution_count": null,
   "id": "7f3fa69a-d63c-4ae9-b4c3-f80538c4f1c0",
   "metadata": {},
   "outputs": [],
   "source": []
  },
  {
   "cell_type": "code",
   "execution_count": null,
   "id": "21c8c311-16bb-42b5-8e4b-ef3b44be746a",
   "metadata": {},
   "outputs": [],
   "source": []
  }
 ],
 "metadata": {
  "kernelspec": {
   "display_name": "Python 3 (ipykernel)",
   "language": "python",
   "name": "python3"
  },
  "language_info": {
   "codemirror_mode": {
    "name": "ipython",
    "version": 3
   },
   "file_extension": ".py",
   "mimetype": "text/x-python",
   "name": "python",
   "nbconvert_exporter": "python",
   "pygments_lexer": "ipython3",
   "version": "3.12.4"
  }
 },
 "nbformat": 4,
 "nbformat_minor": 5
}
